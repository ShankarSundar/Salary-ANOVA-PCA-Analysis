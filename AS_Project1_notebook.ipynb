{
 "cells": [
  {
   "cell_type": "code",
   "execution_count": 34,
   "id": "ea3500c3",
   "metadata": {},
   "outputs": [],
   "source": [
    "import pandas as pd\n",
    "import numpy as np\n",
    "import matplotlib.pyplot as plt\n",
    "%matplotlib inline\n",
    "import seaborn as sns\n",
    "import warnings\n",
    "\n",
    "warnings.filterwarnings('ignore')"
   ]
  },
  {
   "cell_type": "code",
   "execution_count": 3,
   "id": "b061ebdd",
   "metadata": {},
   "outputs": [],
   "source": [
    "df = pd.read_csv('SalaryData.csv')"
   ]
  },
  {
   "cell_type": "code",
   "execution_count": 4,
   "id": "4498a43c",
   "metadata": {},
   "outputs": [
    {
     "data": {
      "text/html": [
       "<div>\n",
       "<style scoped>\n",
       "    .dataframe tbody tr th:only-of-type {\n",
       "        vertical-align: middle;\n",
       "    }\n",
       "\n",
       "    .dataframe tbody tr th {\n",
       "        vertical-align: top;\n",
       "    }\n",
       "\n",
       "    .dataframe thead th {\n",
       "        text-align: right;\n",
       "    }\n",
       "</style>\n",
       "<table border=\"1\" class=\"dataframe\">\n",
       "  <thead>\n",
       "    <tr style=\"text-align: right;\">\n",
       "      <th></th>\n",
       "      <th>Education</th>\n",
       "      <th>Occupation</th>\n",
       "      <th>Salary</th>\n",
       "    </tr>\n",
       "  </thead>\n",
       "  <tbody>\n",
       "    <tr>\n",
       "      <th>0</th>\n",
       "      <td>Doctorate</td>\n",
       "      <td>Adm-clerical</td>\n",
       "      <td>153197</td>\n",
       "    </tr>\n",
       "    <tr>\n",
       "      <th>1</th>\n",
       "      <td>Doctorate</td>\n",
       "      <td>Adm-clerical</td>\n",
       "      <td>115945</td>\n",
       "    </tr>\n",
       "    <tr>\n",
       "      <th>2</th>\n",
       "      <td>Doctorate</td>\n",
       "      <td>Adm-clerical</td>\n",
       "      <td>175935</td>\n",
       "    </tr>\n",
       "    <tr>\n",
       "      <th>3</th>\n",
       "      <td>Doctorate</td>\n",
       "      <td>Adm-clerical</td>\n",
       "      <td>220754</td>\n",
       "    </tr>\n",
       "    <tr>\n",
       "      <th>4</th>\n",
       "      <td>Doctorate</td>\n",
       "      <td>Sales</td>\n",
       "      <td>170769</td>\n",
       "    </tr>\n",
       "  </tbody>\n",
       "</table>\n",
       "</div>"
      ],
      "text/plain": [
       "    Education     Occupation  Salary\n",
       "0   Doctorate   Adm-clerical  153197\n",
       "1   Doctorate   Adm-clerical  115945\n",
       "2   Doctorate   Adm-clerical  175935\n",
       "3   Doctorate   Adm-clerical  220754\n",
       "4   Doctorate          Sales  170769"
      ]
     },
     "execution_count": 4,
     "metadata": {},
     "output_type": "execute_result"
    }
   ],
   "source": [
    "df.head()"
   ]
  },
  {
   "cell_type": "code",
   "execution_count": 5,
   "id": "0c7faff4",
   "metadata": {},
   "outputs": [
    {
     "data": {
      "text/html": [
       "<div>\n",
       "<style scoped>\n",
       "    .dataframe tbody tr th:only-of-type {\n",
       "        vertical-align: middle;\n",
       "    }\n",
       "\n",
       "    .dataframe tbody tr th {\n",
       "        vertical-align: top;\n",
       "    }\n",
       "\n",
       "    .dataframe thead th {\n",
       "        text-align: right;\n",
       "    }\n",
       "</style>\n",
       "<table border=\"1\" class=\"dataframe\">\n",
       "  <thead>\n",
       "    <tr style=\"text-align: right;\">\n",
       "      <th></th>\n",
       "      <th>Education</th>\n",
       "      <th>Occupation</th>\n",
       "      <th>Salary</th>\n",
       "    </tr>\n",
       "  </thead>\n",
       "  <tbody>\n",
       "    <tr>\n",
       "      <th>35</th>\n",
       "      <td>Bachelors</td>\n",
       "      <td>Exec-managerial</td>\n",
       "      <td>173935</td>\n",
       "    </tr>\n",
       "    <tr>\n",
       "      <th>36</th>\n",
       "      <td>Bachelors</td>\n",
       "      <td>Exec-managerial</td>\n",
       "      <td>212448</td>\n",
       "    </tr>\n",
       "    <tr>\n",
       "      <th>37</th>\n",
       "      <td>Bachelors</td>\n",
       "      <td>Exec-managerial</td>\n",
       "      <td>173664</td>\n",
       "    </tr>\n",
       "    <tr>\n",
       "      <th>38</th>\n",
       "      <td>Bachelors</td>\n",
       "      <td>Exec-managerial</td>\n",
       "      <td>212760</td>\n",
       "    </tr>\n",
       "    <tr>\n",
       "      <th>39</th>\n",
       "      <td>Doctorate</td>\n",
       "      <td>Exec-managerial</td>\n",
       "      <td>212781</td>\n",
       "    </tr>\n",
       "  </tbody>\n",
       "</table>\n",
       "</div>"
      ],
      "text/plain": [
       "     Education        Occupation  Salary\n",
       "35   Bachelors   Exec-managerial  173935\n",
       "36   Bachelors   Exec-managerial  212448\n",
       "37   Bachelors   Exec-managerial  173664\n",
       "38   Bachelors   Exec-managerial  212760\n",
       "39   Doctorate   Exec-managerial  212781"
      ]
     },
     "execution_count": 5,
     "metadata": {},
     "output_type": "execute_result"
    }
   ],
   "source": [
    "df.tail()"
   ]
  },
  {
   "cell_type": "code",
   "execution_count": 6,
   "id": "18982061",
   "metadata": {},
   "outputs": [
    {
     "data": {
      "text/plain": [
       " Doctorate    16\n",
       " Bachelors    15\n",
       " HS-grad       9\n",
       "Name: Education, dtype: int64"
      ]
     },
     "execution_count": 6,
     "metadata": {},
     "output_type": "execute_result"
    }
   ],
   "source": [
    "df['Education'].value_counts()"
   ]
  },
  {
   "cell_type": "code",
   "execution_count": 7,
   "id": "c597ca8d",
   "metadata": {},
   "outputs": [
    {
     "data": {
      "text/plain": [
       " Prof-specialty     13\n",
       " Sales              12\n",
       " Adm-clerical       10\n",
       " Exec-managerial     5\n",
       "Name: Occupation, dtype: int64"
      ]
     },
     "execution_count": 7,
     "metadata": {},
     "output_type": "execute_result"
    }
   ],
   "source": [
    "df['Occupation'].value_counts()"
   ]
  },
  {
   "cell_type": "code",
   "execution_count": 9,
   "id": "178b26fe",
   "metadata": {},
   "outputs": [
    {
     "data": {
      "text/html": [
       "<div>\n",
       "<style scoped>\n",
       "    .dataframe tbody tr th:only-of-type {\n",
       "        vertical-align: middle;\n",
       "    }\n",
       "\n",
       "    .dataframe tbody tr th {\n",
       "        vertical-align: top;\n",
       "    }\n",
       "\n",
       "    .dataframe thead th {\n",
       "        text-align: right;\n",
       "    }\n",
       "</style>\n",
       "<table border=\"1\" class=\"dataframe\">\n",
       "  <thead>\n",
       "    <tr style=\"text-align: right;\">\n",
       "      <th></th>\n",
       "      <th>count</th>\n",
       "      <th>mean</th>\n",
       "      <th>std</th>\n",
       "      <th>min</th>\n",
       "      <th>25%</th>\n",
       "      <th>50%</th>\n",
       "      <th>75%</th>\n",
       "      <th>max</th>\n",
       "    </tr>\n",
       "  </thead>\n",
       "  <tbody>\n",
       "    <tr>\n",
       "      <th>Salary</th>\n",
       "      <td>40.0</td>\n",
       "      <td>162186.875</td>\n",
       "      <td>64860.407506</td>\n",
       "      <td>50103.0</td>\n",
       "      <td>99897.5</td>\n",
       "      <td>169100.0</td>\n",
       "      <td>214440.75</td>\n",
       "      <td>260151.0</td>\n",
       "    </tr>\n",
       "  </tbody>\n",
       "</table>\n",
       "</div>"
      ],
      "text/plain": [
       "        count        mean           std      min      25%       50%  \\\n",
       "Salary   40.0  162186.875  64860.407506  50103.0  99897.5  169100.0   \n",
       "\n",
       "              75%       max  \n",
       "Salary  214440.75  260151.0  "
      ]
     },
     "execution_count": 9,
     "metadata": {},
     "output_type": "execute_result"
    }
   ],
   "source": [
    "df.describe().T"
   ]
  },
  {
   "cell_type": "code",
   "execution_count": 10,
   "id": "ba718a40",
   "metadata": {},
   "outputs": [
    {
     "name": "stdout",
     "output_type": "stream",
     "text": [
      "<class 'pandas.core.frame.DataFrame'>\n",
      "RangeIndex: 40 entries, 0 to 39\n",
      "Data columns (total 3 columns):\n",
      " #   Column      Non-Null Count  Dtype \n",
      "---  ------      --------------  ----- \n",
      " 0   Education   40 non-null     object\n",
      " 1   Occupation  40 non-null     object\n",
      " 2   Salary      40 non-null     int64 \n",
      "dtypes: int64(1), object(2)\n",
      "memory usage: 1.1+ KB\n"
     ]
    }
   ],
   "source": [
    "df.info()"
   ]
  },
  {
   "cell_type": "code",
   "execution_count": 19,
   "id": "5c8d2e45",
   "metadata": {},
   "outputs": [
    {
     "data": {
      "text/plain": [
       "Education     0\n",
       "Occupation    0\n",
       "Salary        0\n",
       "dtype: int64"
      ]
     },
     "execution_count": 19,
     "metadata": {},
     "output_type": "execute_result"
    }
   ],
   "source": [
    "df.isnull().sum()"
   ]
  },
  {
   "cell_type": "code",
   "execution_count": 20,
   "id": "3191acac",
   "metadata": {},
   "outputs": [],
   "source": [
    "from statsmodels.formula.api import ols      \n",
    "from statsmodels.stats.anova import _get_covariance,anova_lm "
   ]
  },
  {
   "cell_type": "code",
   "execution_count": 21,
   "id": "7b82ed1b",
   "metadata": {},
   "outputs": [],
   "source": [
    "formula = 'Salary~Education'"
   ]
  },
  {
   "cell_type": "code",
   "execution_count": 22,
   "id": "5cfb4135",
   "metadata": {},
   "outputs": [],
   "source": [
    "model = ols(formula,df).fit()"
   ]
  },
  {
   "cell_type": "code",
   "execution_count": 23,
   "id": "a23e678e",
   "metadata": {},
   "outputs": [],
   "source": [
    "anova_edu = anova_lm(model)"
   ]
  },
  {
   "cell_type": "code",
   "execution_count": 24,
   "id": "a486d231",
   "metadata": {},
   "outputs": [
    {
     "data": {
      "text/html": [
       "<div>\n",
       "<style scoped>\n",
       "    .dataframe tbody tr th:only-of-type {\n",
       "        vertical-align: middle;\n",
       "    }\n",
       "\n",
       "    .dataframe tbody tr th {\n",
       "        vertical-align: top;\n",
       "    }\n",
       "\n",
       "    .dataframe thead th {\n",
       "        text-align: right;\n",
       "    }\n",
       "</style>\n",
       "<table border=\"1\" class=\"dataframe\">\n",
       "  <thead>\n",
       "    <tr style=\"text-align: right;\">\n",
       "      <th></th>\n",
       "      <th>df</th>\n",
       "      <th>sum_sq</th>\n",
       "      <th>mean_sq</th>\n",
       "      <th>F</th>\n",
       "      <th>PR(&gt;F)</th>\n",
       "    </tr>\n",
       "  </thead>\n",
       "  <tbody>\n",
       "    <tr>\n",
       "      <th>Education</th>\n",
       "      <td>2.0</td>\n",
       "      <td>1.026955e+11</td>\n",
       "      <td>5.134773e+10</td>\n",
       "      <td>30.95628</td>\n",
       "      <td>1.257709e-08</td>\n",
       "    </tr>\n",
       "    <tr>\n",
       "      <th>Residual</th>\n",
       "      <td>37.0</td>\n",
       "      <td>6.137256e+10</td>\n",
       "      <td>1.658718e+09</td>\n",
       "      <td>NaN</td>\n",
       "      <td>NaN</td>\n",
       "    </tr>\n",
       "  </tbody>\n",
       "</table>\n",
       "</div>"
      ],
      "text/plain": [
       "             df        sum_sq       mean_sq         F        PR(>F)\n",
       "Education   2.0  1.026955e+11  5.134773e+10  30.95628  1.257709e-08\n",
       "Residual   37.0  6.137256e+10  1.658718e+09       NaN           NaN"
      ]
     },
     "execution_count": 24,
     "metadata": {},
     "output_type": "execute_result"
    }
   ],
   "source": [
    "anova_edu"
   ]
  },
  {
   "cell_type": "code",
   "execution_count": 25,
   "id": "82b9309f",
   "metadata": {},
   "outputs": [],
   "source": [
    "formula = 'Salary~Occupation'"
   ]
  },
  {
   "cell_type": "code",
   "execution_count": 26,
   "id": "a4bfe5cc",
   "metadata": {},
   "outputs": [],
   "source": [
    "model = ols(formula,df).fit()"
   ]
  },
  {
   "cell_type": "code",
   "execution_count": 27,
   "id": "ac26201b",
   "metadata": {},
   "outputs": [],
   "source": [
    "anova_occ = anova_lm(model)"
   ]
  },
  {
   "cell_type": "code",
   "execution_count": 28,
   "id": "5f90c653",
   "metadata": {},
   "outputs": [
    {
     "data": {
      "text/html": [
       "<div>\n",
       "<style scoped>\n",
       "    .dataframe tbody tr th:only-of-type {\n",
       "        vertical-align: middle;\n",
       "    }\n",
       "\n",
       "    .dataframe tbody tr th {\n",
       "        vertical-align: top;\n",
       "    }\n",
       "\n",
       "    .dataframe thead th {\n",
       "        text-align: right;\n",
       "    }\n",
       "</style>\n",
       "<table border=\"1\" class=\"dataframe\">\n",
       "  <thead>\n",
       "    <tr style=\"text-align: right;\">\n",
       "      <th></th>\n",
       "      <th>df</th>\n",
       "      <th>sum_sq</th>\n",
       "      <th>mean_sq</th>\n",
       "      <th>F</th>\n",
       "      <th>PR(&gt;F)</th>\n",
       "    </tr>\n",
       "  </thead>\n",
       "  <tbody>\n",
       "    <tr>\n",
       "      <th>Occupation</th>\n",
       "      <td>3.0</td>\n",
       "      <td>1.125878e+10</td>\n",
       "      <td>3.752928e+09</td>\n",
       "      <td>0.884144</td>\n",
       "      <td>0.458508</td>\n",
       "    </tr>\n",
       "    <tr>\n",
       "      <th>Residual</th>\n",
       "      <td>36.0</td>\n",
       "      <td>1.528092e+11</td>\n",
       "      <td>4.244701e+09</td>\n",
       "      <td>NaN</td>\n",
       "      <td>NaN</td>\n",
       "    </tr>\n",
       "  </tbody>\n",
       "</table>\n",
       "</div>"
      ],
      "text/plain": [
       "              df        sum_sq       mean_sq         F    PR(>F)\n",
       "Occupation   3.0  1.125878e+10  3.752928e+09  0.884144  0.458508\n",
       "Residual    36.0  1.528092e+11  4.244701e+09       NaN       NaN"
      ]
     },
     "execution_count": 28,
     "metadata": {},
     "output_type": "execute_result"
    }
   ],
   "source": [
    "anova_occ"
   ]
  },
  {
   "cell_type": "code",
   "execution_count": 29,
   "id": "ab1d50e5",
   "metadata": {},
   "outputs": [],
   "source": [
    "formula = 'Salary ~ C(Education) + C(Occupation)'"
   ]
  },
  {
   "cell_type": "code",
   "execution_count": 30,
   "id": "1e931cbe",
   "metadata": {},
   "outputs": [],
   "source": [
    "model = ols(formula,df).fit()"
   ]
  },
  {
   "cell_type": "code",
   "execution_count": 31,
   "id": "8c88dcf4",
   "metadata": {},
   "outputs": [],
   "source": [
    "aov_table = anova_lm(model)"
   ]
  },
  {
   "cell_type": "code",
   "execution_count": 32,
   "id": "3c96e352",
   "metadata": {},
   "outputs": [
    {
     "data": {
      "text/html": [
       "<div>\n",
       "<style scoped>\n",
       "    .dataframe tbody tr th:only-of-type {\n",
       "        vertical-align: middle;\n",
       "    }\n",
       "\n",
       "    .dataframe tbody tr th {\n",
       "        vertical-align: top;\n",
       "    }\n",
       "\n",
       "    .dataframe thead th {\n",
       "        text-align: right;\n",
       "    }\n",
       "</style>\n",
       "<table border=\"1\" class=\"dataframe\">\n",
       "  <thead>\n",
       "    <tr style=\"text-align: right;\">\n",
       "      <th></th>\n",
       "      <th>df</th>\n",
       "      <th>sum_sq</th>\n",
       "      <th>mean_sq</th>\n",
       "      <th>F</th>\n",
       "      <th>PR(&gt;F)</th>\n",
       "    </tr>\n",
       "  </thead>\n",
       "  <tbody>\n",
       "    <tr>\n",
       "      <th>C(Education)</th>\n",
       "      <td>2.0</td>\n",
       "      <td>1.026955e+11</td>\n",
       "      <td>5.134773e+10</td>\n",
       "      <td>31.257677</td>\n",
       "      <td>1.981539e-08</td>\n",
       "    </tr>\n",
       "    <tr>\n",
       "      <th>C(Occupation)</th>\n",
       "      <td>3.0</td>\n",
       "      <td>5.519946e+09</td>\n",
       "      <td>1.839982e+09</td>\n",
       "      <td>1.120080</td>\n",
       "      <td>3.545825e-01</td>\n",
       "    </tr>\n",
       "    <tr>\n",
       "      <th>Residual</th>\n",
       "      <td>34.0</td>\n",
       "      <td>5.585261e+10</td>\n",
       "      <td>1.642724e+09</td>\n",
       "      <td>NaN</td>\n",
       "      <td>NaN</td>\n",
       "    </tr>\n",
       "  </tbody>\n",
       "</table>\n",
       "</div>"
      ],
      "text/plain": [
       "                 df        sum_sq       mean_sq          F        PR(>F)\n",
       "C(Education)    2.0  1.026955e+11  5.134773e+10  31.257677  1.981539e-08\n",
       "C(Occupation)   3.0  5.519946e+09  1.839982e+09   1.120080  3.545825e-01\n",
       "Residual       34.0  5.585261e+10  1.642724e+09        NaN           NaN"
      ]
     },
     "execution_count": 32,
     "metadata": {},
     "output_type": "execute_result"
    }
   ],
   "source": [
    "aov_table"
   ]
  },
  {
   "cell_type": "code",
   "execution_count": 38,
   "id": "a8a8f01f",
   "metadata": {},
   "outputs": [
    {
     "data": {
      "image/png": "[encoded data removed]",
      "text/plain": [
       "<Figure size 432x288 with 1 Axes>"
      ]
     },
     "metadata": {
      "needs_background": "light"
     },
     "output_type": "display_data"
    }
   ],
   "source": [
    "sns.pointplot(x='Occupation', y='Salary', data=df, hue='Education',ci=None);"
   ]
  },
  {
   "cell_type": "code",
   "execution_count": 46,
   "id": "9bc34681",
   "metadata": {},
   "outputs": [
    {
     "data": {
      "text/html": [
       "<div>\n",
       "<style scoped>\n",
       "    .dataframe tbody tr th:only-of-type {\n",
       "        vertical-align: middle;\n",
       "    }\n",
       "\n",
       "    .dataframe tbody tr th {\n",
       "        vertical-align: top;\n",
       "    }\n",
       "\n",
       "    .dataframe thead th {\n",
       "        text-align: right;\n",
       "    }\n",
       "</style>\n",
       "<table border=\"1\" class=\"dataframe\">\n",
       "  <thead>\n",
       "    <tr style=\"text-align: right;\">\n",
       "      <th></th>\n",
       "      <th>df</th>\n",
       "      <th>sum_sq</th>\n",
       "      <th>mean_sq</th>\n",
       "      <th>F</th>\n",
       "      <th>PR(&gt;F)</th>\n",
       "    </tr>\n",
       "  </thead>\n",
       "  <tbody>\n",
       "    <tr>\n",
       "      <th>C(Education)</th>\n",
       "      <td>2.0</td>\n",
       "      <td>1.026955e+11</td>\n",
       "      <td>5.134773e+10</td>\n",
       "      <td>72.211958</td>\n",
       "      <td>5.466264e-12</td>\n",
       "    </tr>\n",
       "    <tr>\n",
       "      <th>C(Occupation)</th>\n",
       "      <td>3.0</td>\n",
       "      <td>5.519946e+09</td>\n",
       "      <td>1.839982e+09</td>\n",
       "      <td>2.587626</td>\n",
       "      <td>7.211580e-02</td>\n",
       "    </tr>\n",
       "    <tr>\n",
       "      <th>C(Education):C(Occupation)</th>\n",
       "      <td>6.0</td>\n",
       "      <td>3.634909e+10</td>\n",
       "      <td>6.058182e+09</td>\n",
       "      <td>8.519815</td>\n",
       "      <td>2.232500e-05</td>\n",
       "    </tr>\n",
       "    <tr>\n",
       "      <th>Residual</th>\n",
       "      <td>29.0</td>\n",
       "      <td>2.062102e+10</td>\n",
       "      <td>7.110697e+08</td>\n",
       "      <td>NaN</td>\n",
       "      <td>NaN</td>\n",
       "    </tr>\n",
       "  </tbody>\n",
       "</table>\n",
       "</div>"
      ],
      "text/plain": [
       "                              df        sum_sq       mean_sq          F  \\\n",
       "C(Education)                 2.0  1.026955e+11  5.134773e+10  72.211958   \n",
       "C(Occupation)                3.0  5.519946e+09  1.839982e+09   2.587626   \n",
       "C(Education):C(Occupation)   6.0  3.634909e+10  6.058182e+09   8.519815   \n",
       "Residual                    29.0  2.062102e+10  7.110697e+08        NaN   \n",
       "\n",
       "                                  PR(>F)  \n",
       "C(Education)                5.466264e-12  \n",
       "C(Occupation)               7.211580e-02  \n",
       "C(Education):C(Occupation)  2.232500e-05  \n",
       "Residual                             NaN  "
      ]
     },
     "execution_count": 46,
     "metadata": {},
     "output_type": "execute_result"
    }
   ],
   "source": [
    "formula = 'Salary ~ C(Education) + C(Occupation) + C(Education):C(Occupation)'\n",
    "model = ols(formula, df).fit()\n",
    "aov_table = anova_lm(model)\n",
    "(aov_table)"
   ]
  },
  {
   "cell_type": "code",
   "execution_count": 48,
   "id": "12622bb7",
   "metadata": {},
   "outputs": [],
   "source": [
    "from statsmodels.stats.multicomp import pairwise_tukeyhsd"
   ]
  },
  {
   "cell_type": "code",
   "execution_count": 54,
   "id": "c3d990f9",
   "metadata": {},
   "outputs": [],
   "source": [
    "tukey = pairwise_tukeyhsd(endog = df['Salary'], groups = df['Education'])"
   ]
  },
  {
   "cell_type": "code",
   "execution_count": 56,
   "id": "a45da13f",
   "metadata": {},
   "outputs": [
    {
     "name": "stdout",
     "output_type": "stream",
     "text": [
      "           Multiple Comparison of Means - Tukey HSD, FWER=0.05           \n",
      "=========================================================================\n",
      "  group1     group2     meandiff   p-adj     lower        upper    reject\n",
      "-------------------------------------------------------------------------\n",
      " Bachelors  Doctorate   43274.0667 0.0146    7541.1439  79006.9894   True\n",
      " Bachelors    HS-grad  -90114.1556  0.001 -132035.1958 -48193.1153   True\n",
      " Doctorate    HS-grad -133388.2222  0.001 -174815.0876 -91961.3569   True\n",
      "-------------------------------------------------------------------------\n"
     ]
    }
   ],
   "source": [
    "print(tukey)"
   ]
  },
  {
   "cell_type": "code",
   "execution_count": 58,
   "id": "5ebe1904",
   "metadata": {},
   "outputs": [],
   "source": [
    "tukey = pairwise_tukeyhsd(endog = df['Salary'], groups = df['Occupation'])"
   ]
  },
  {
   "cell_type": "code",
   "execution_count": 60,
   "id": "0d99e2cc",
   "metadata": {},
   "outputs": [
    {
     "name": "stdout",
     "output_type": "stream",
     "text": [
      "                Multiple Comparison of Means - Tukey HSD, FWER=0.05                 \n",
      "====================================================================================\n",
      "     group1           group2        meandiff  p-adj     lower        upper    reject\n",
      "------------------------------------------------------------------------------------\n",
      "    Adm-clerical  Exec-managerial     55693.3 0.4146  -40415.1459 151801.7459  False\n",
      "    Adm-clerical   Prof-specialty  27528.8538 0.7252  -46277.4011 101335.1088  False\n",
      "    Adm-clerical            Sales  16180.1167    0.9  -58951.3115  91311.5449  False\n",
      " Exec-managerial   Prof-specialty -28164.4462 0.8263 -120502.4542  64173.5618  False\n",
      " Exec-managerial            Sales -39513.1833 0.6507 -132913.8041  53887.4374  False\n",
      "  Prof-specialty            Sales -11348.7372    0.9  -81592.6398  58895.1655  False\n",
      "------------------------------------------------------------------------------------\n"
     ]
    }
   ],
   "source": [
    "print(tukey)"
   ]
  },
  {
   "cell_type": "code",
   "execution_count": null,
   "id": "798ca78d",
   "metadata": {},
   "outputs": [],
   "source": []
  }
 ],
 "metadata": {
  "kernelspec": {
   "display_name": "Python 3",
   "language": "python",
   "name": "python3"
  },
  "language_info": {
   "codemirror_mode": {
    "name": "ipython",
    "version": 3
   },
   "file_extension": ".py",
   "mimetype": "text/x-python",
   "name": "python",
   "nbconvert_exporter": "python",
   "pygments_lexer": "ipython3",
   "version": "3.8.8"
  }
 },
 "nbformat": 4,
 "nbformat_minor": 5
}
